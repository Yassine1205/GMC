{
 "cells": [
  {
   "cell_type": "code",
   "execution_count": 6,
   "id": "c3eb6651",
   "metadata": {},
   "outputs": [
    {
     "name": "stdout",
     "output_type": "stream",
     "text": [
      "last nameben ayed\n",
      "first nameyassine\n",
      "ben ayed yassine\n"
     ]
    }
   ],
   "source": [
    "a=str(input(\"last name\"))\n",
    "b=str(input(\"first name\"))\n",
    "print(a,b)"
   ]
  },
  {
   "cell_type": "code",
   "execution_count": 42,
   "id": "be5a9c89",
   "metadata": {},
   "outputs": [
    {
     "name": "stdout",
     "output_type": "stream",
     "text": [
      "put a number:5\n",
      "result: 615\n"
     ]
    }
   ],
   "source": [
    "n=int(input(\"put a number:\"))\n",
    "n=n+n*11+n*111\n",
    "print(\"result:\",n)\n"
   ]
  },
  {
   "cell_type": "code",
   "execution_count": 70,
   "id": "9d00356d",
   "metadata": {},
   "outputs": [
    {
     "name": "stdout",
     "output_type": "stream",
     "text": [
      "chose a number:463252\n",
      "the number is even\n"
     ]
    }
   ],
   "source": [
    "a=int(input(\"chose a number:\"))\n",
    "if a%2==0:\n",
    "    print(\"the number is even\")\n",
    "else:\n",
    "    print(\"the number is odd\")"
   ]
  },
  {
   "cell_type": "code",
   "execution_count": 119,
   "id": "58a84990",
   "metadata": {},
   "outputs": [
    {
     "name": "stdout",
     "output_type": "stream",
     "text": [
      "2002,2009,2016,2023,2037,2044,2051,2058,2072,2079,2086,2093,2107,2114,2121,2128,2142,2149,2156,2163,2177,2184,2191,2198,2212,2219,2226,2233,2247,2254,2261,2268,2282,2289,2296,2303,2317,2324,2331,2338,2352,2359,2366,2373,2387,2394,2401,2408,2422,2429,2436,2443,2457,2464,2471,2478,2492,2499,2506,2513,2527,2534,2541,2548,2562,2569,2576,2583,2597,2604,2611,2618,2632,2639,2646,2653,2667,2674,2681,2688,2702,2709,2716,2723,2737,2744,2751,2758,2772,2779,2786,2793,2807,2814,2821,2828,2842,2849,2856,2863,2877,2884,2891,2898,2912,2919,2926,2933,2947,2954,2961,2968,2982,2989,2996,3003,3017,3024,3031,3038,3052,3059,3066,3073,3087,3094,3101,3108,3122,3129,3136,3143,3157,3164,3171,3178,3192,3199,"
     ]
    }
   ],
   "source": [
    "for A in range(2000,3201):\n",
    "    if A%5!=0 and A%7==0:\n",
    "        print(A,end=(\",\"))\n"
   ]
  },
  {
   "cell_type": "code",
   "execution_count": 128,
   "id": "959810ca",
   "metadata": {},
   "outputs": [
    {
     "name": "stdout",
     "output_type": "stream",
     "text": [
      "put the number:45\n",
      "the factorial of 45 is 119622220865480194561963161495657715064383733760000000000\n"
     ]
    }
   ],
   "source": [
    "import math\n",
    "def fact (n):\n",
    "    return(math.factorial(n))\n",
    "num=int (input(\"put the number:\"))\n",
    "f=fact(num)\n",
    "print(\"the factorial of\",num,\"is\",f)"
   ]
  },
  {
   "cell_type": "code",
   "execution_count": 138,
   "id": "ddab62a9",
   "metadata": {},
   "outputs": [
    {
     "name": "stdout",
     "output_type": "stream",
     "text": [
      "put a word:hello team \n",
      "result:hlota \n"
     ]
    }
   ],
   "source": [
    "result=input(\"put a word:\")\n",
    "def odd_values_string(str):\n",
    "    result= \"result:\"\n",
    "    for a in range(len(str)):\n",
    "        if a % 2 == 0:\n",
    "            result=result+str[a]\n",
    "    return result\n",
    "print(odd_values_string(result))\n",
    "\n"
   ]
  },
  {
   "cell_type": "code",
   "execution_count": 8,
   "id": "1910f90b",
   "metadata": {},
   "outputs": [
    {
     "name": "stdin",
     "output_type": "stream",
     "text": [
      "price: 589\n"
     ]
    },
    {
     "name": "stdout",
     "output_type": "stream",
     "text": [
      "new price: 294.5\n"
     ]
    }
   ],
   "source": [
    "a=int(input(\"price:\"))\n",
    "if a>=500:\n",
    "    a=a/2\n",
    "elif a in range(200,500):\n",
    "    a=a*70/100  \n",
    "elif a<200:\n",
    "    a=a*90/100\n",
    "print(\"new price:\",a)"
   ]
  }
 ],
 "metadata": {
  "kernelspec": {
   "display_name": "Python 3",
   "language": "python",
   "name": "python3"
  },
  "language_info": {
   "codemirror_mode": {
    "name": "ipython",
    "version": 3
   },
   "file_extension": ".py",
   "mimetype": "text/x-python",
   "name": "python",
   "nbconvert_exporter": "python",
   "pygments_lexer": "ipython3",
   "version": "3.8.8"
  }
 },
 "nbformat": 4,
 "nbformat_minor": 5
}
