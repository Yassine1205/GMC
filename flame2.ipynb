{
 "cells": [
  {
   "cell_type": "code",
   "execution_count": 1,
   "id": "b5516636-f863-448b-b421-2c520c4f5055",
   "metadata": {},
   "outputs": [
    {
     "name": "stdin",
     "output_type": "stream",
     "text": [
      "the name of the first player: o\n",
      "the name of the second player m\n"
     ]
    },
    {
     "data": {
      "text/plain": [
       "[['o', '*', 'm'], False]"
      ]
     },
     "execution_count": 1,
     "metadata": {},
     "output_type": "execute_result"
    }
   ],
   "source": [
    "a=input(\"the name of the first player:\")\n",
    "list1=list(a)\n",
    "b=input(\"the name of the second player\")\n",
    "list2=list(b)\n",
    "def remove_match_char(list1, list2):\n",
    " \n",
    "    for i in range(len(list1)) :\n",
    "        for j in range(len(list2)) :\n",
    "            if list1[i] == list2[j] :\n",
    "                c = list1[i]\n",
    "                list1.remove(c)\n",
    "                list2.remove(c)\n",
    "                list3 = list1 +[\"*\"]+ list2\n",
    "                return [list3, True]\n",
    " \n",
    "    list3 = list1 +[\"*\"]+ list2\n",
    "    return [list3, False]\n",
    "remove_match_char(list1, list2)"
   ]
  },
  {
   "cell_type": "code",
   "execution_count": null,
   "id": "d14e4c80-fc8c-46ee-b0e8-5db40a94e242",
   "metadata": {},
   "outputs": [],
   "source": []
  }
 ],
 "metadata": {
  "kernelspec": {
   "display_name": "Python 3",
   "language": "python",
   "name": "python3"
  },
  "language_info": {
   "codemirror_mode": {
    "name": "ipython",
    "version": 3
   },
   "file_extension": ".py",
   "mimetype": "text/x-python",
   "name": "python",
   "nbconvert_exporter": "python",
   "pygments_lexer": "ipython3",
   "version": "3.8.8"
  }
 },
 "nbformat": 4,
 "nbformat_minor": 5
}
