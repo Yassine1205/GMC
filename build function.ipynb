{
 "cells": [
  {
   "cell_type": "code",
   "execution_count": 8,
   "id": "cb2ed934-2c3d-4e7b-b470-16a2d1bc378d",
   "metadata": {},
   "outputs": [
    {
     "name": "stdout",
     "output_type": "stream",
     "text": [
      "100\n"
     ]
    }
   ],
   "source": [
    "#question 1\n",
    "maxnbr=max(a,b,c)\n",
    "a=1\n",
    "b=10\n",
    "c=100\n",
    "print(maxnbr)"
   ]
  },
  {
   "cell_type": "code",
   "execution_count": 24,
   "id": "0b6d5b50-5ac9-43b2-bb40-7c751023ba28",
   "metadata": {},
   "outputs": [
    {
     "name": "stdin",
     "output_type": "stream",
     "text": [
      "put a number: 5\n",
      "put a number: 2\n"
     ]
    },
    {
     "name": "stdout",
     "output_type": "stream",
     "text": [
      "(3, 7)\n"
     ]
    }
   ],
   "source": [
    "#question 2\n",
    "a=int(input(\"put a number:\"))\n",
    "b=int(input(\"put a number:\"))\n",
    "def function_calculation(a,b):\n",
    "    x = (a-b),(a+b)\n",
    "    return x \n",
    "print(function_calculation(a,b))"
   ]
  },
  {
   "cell_type": "code",
   "execution_count": 5,
   "id": "fd793cbb-d3e4-4f8d-bf40-e761f472241e",
   "metadata": {},
   "outputs": [
    {
     "name": "stdin",
     "output_type": "stream",
     "text": [
      "put your list here: 4,5,7,8\n"
     ]
    },
    {
     "name": "stdout",
     "output_type": "stream",
     "text": [
      "the sum of the even numbers is 11\n",
      "the multiplication of the odd numbers is 40\n"
     ]
    }
   ],
   "source": [
    "#question 3\n",
    "list1 =list(map(int,input(\"put your list here:\").split(\",\")))\n",
    "def ad(list):\n",
    "    res=0\n",
    "    for i in list:\n",
    "        res+=i\n",
    "    return res\n",
    "def mul(list):\n",
    "    res1=1\n",
    "    for i in list:\n",
    "        res1*=i\n",
    "    return res1\n",
    "list2=[]\n",
    "list3=[]\n",
    "for i in range (0,len(list1),2):\n",
    "    list2.append(list1[i])\n",
    "    x=ad(list2)\n",
    "print(\"the sum of the even numbers:\",x)\n",
    "for s in range(1,len(list1),2):\n",
    "    list3.append(list1[s])\n",
    "    c=mul(list3)\n",
    "print(\"the multiplication of the odd numbers:\",c)\n"
   ]
  },
  {
   "cell_type": "code",
   "execution_count": 1,
   "id": "fe1675e1-4acb-4b57-9296-dbcd8c6afc45",
   "metadata": {},
   "outputs": [
    {
     "name": "stdin",
     "output_type": "stream",
     "text": [
      "enter words seperated by -  green-red-yellow-black-white\n"
     ]
    },
    {
     "name": "stdout",
     "output_type": "stream",
     "text": [
      "black-green-red-white-yellow\n"
     ]
    }
   ],
   "source": [
    "#question 4\n",
    "items=[a for a in input(\"enter words seperated by - \").split(\"-\")]\n",
    "items.sort()\n",
    "print(\"-\".join(items))"
   ]
  },
  {
   "cell_type": "code",
   "execution_count": 5,
   "id": "febf85c0-8ea0-4f52-afa5-5ed4b6f51b31",
   "metadata": {},
   "outputs": [
    {
     "name": "stdin",
     "output_type": "stream",
     "text": [
      "chose a number: 100,150,180 \n"
     ]
    },
    {
     "name": "stdout",
     "output_type": "stream",
     "text": [
      "the list will be : [18, 22, 24]\n"
     ]
    }
   ],
   "source": [
    "#question 5\n",
    "import math \n",
    "H = 30\n",
    "C = 50\n",
    "D = input(\"chose a number:\")\n",
    "D = D.split(\",\")\n",
    "list = []\n",
    "for D in D:\n",
    "    Q= round(math.sqrt(2 * C * int(D) /H ))\n",
    "    list.append(Q)\n",
    "print(\"the list will be :\",list)"
   ]
  },
  {
   "cell_type": "code",
   "execution_count": null,
   "id": "4524a490-12ff-4dad-8694-129803c87128",
   "metadata": {},
   "outputs": [],
   "source": []
  }
 ],
 "metadata": {
  "kernelspec": {
   "display_name": "Python 3",
   "language": "python",
   "name": "python3"
  },
  "language_info": {
   "codemirror_mode": {
    "name": "ipython",
    "version": 3
   },
   "file_extension": ".py",
   "mimetype": "text/x-python",
   "name": "python",
   "nbconvert_exporter": "python",
   "pygments_lexer": "ipython3",
   "version": "3.8.8"
  }
 },
 "nbformat": 4,
 "nbformat_minor": 5
}
