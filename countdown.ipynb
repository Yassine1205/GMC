{
 "cells": [
  {
   "cell_type": "code",
   "execution_count": 1,
   "id": "57081743-ea5b-4882-977b-72bf040baa60",
   "metadata": {},
   "outputs": [
    {
     "name": "stdin",
     "output_type": "stream",
     "text": [
      "Enter the time in seconds:  60\n"
     ]
    },
    {
     "name": "stdout",
     "output_type": "stream",
     "text": [
      "Fire in the hole!!\n"
     ]
    }
   ],
   "source": [
    "import time\n",
    "def countdown(tm):\n",
    "    while tm:\n",
    "        min, sec = divmod(tm, 60)\n",
    "        timer = '{:02d}:{:02d}'.format(min, sec)\n",
    "        print(timer, end=\"\\r\")\n",
    "        time.sleep(1)\n",
    "        tm -= 1\n",
    "\n",
    "    print('Fire in the hole!!')\n",
    "tm = input(\"Enter the time in seconds: \")\n",
    "countdown(int(tm))"
   ]
  },
  {
   "cell_type": "code",
   "execution_count": null,
   "id": "d9b13877-2756-4979-b22c-cd245d830c9c",
   "metadata": {},
   "outputs": [],
   "source": []
  }
 ],
 "metadata": {
  "kernelspec": {
   "display_name": "Python 3",
   "language": "python",
   "name": "python3"
  },
  "language_info": {
   "codemirror_mode": {
    "name": "ipython",
    "version": 3
   },
   "file_extension": ".py",
   "mimetype": "text/x-python",
   "name": "python",
   "nbconvert_exporter": "python",
   "pygments_lexer": "ipython3",
   "version": "3.8.8"
  }
 },
 "nbformat": 4,
 "nbformat_minor": 5
}
