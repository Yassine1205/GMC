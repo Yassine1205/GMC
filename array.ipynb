{
 "cells": [
  {
   "cell_type": "code",
   "execution_count": 1,
   "id": "c5e0cc42-be45-44be-9576-18180305c09d",
   "metadata": {},
   "outputs": [
    {
     "name": "stdout",
     "output_type": "stream",
     "text": [
      "[1, 2, 3, 4, 5, 6]\n"
     ]
    }
   ],
   "source": [
    "# Question1\n",
    "from array import *\n",
    "new_array=array('b',[1,2,3,4,5,6])\n",
    "list=new_array.tolist()\n",
    "print(list)"
   ]
  },
  {
   "cell_type": "code",
   "execution_count": 3,
   "id": "40cf16f7-26a2-4954-acac-7a008b992be1",
   "metadata": {},
   "outputs": [
    {
     "name": "stdout",
     "output_type": "stream",
     "text": [
      "[[0 1 2]\n",
      " [3 4 5]\n",
      " [6 7 8]]\n",
      "12\n"
     ]
    }
   ],
   "source": [
    "# Question2\n",
    "import numpy as np\n",
    "p=np.arange(9).reshape(3,3)\n",
    "print(p)\n",
    "res=np.trace(p)\n",
    "print(res)"
   ]
  },
  {
   "cell_type": "code",
   "execution_count": 4,
   "id": "876420ff-5403-410c-b6cf-2dea2fdc20b9",
   "metadata": {},
   "outputs": [
    {
     "name": "stdout",
     "output_type": "stream",
     "text": [
      "Number is bigger than 11 [15]\n"
     ]
    }
   ],
   "source": [
    "# Question3\n",
    "import numpy as np\n",
    "y = np.array([[4, 7, 9], [15, 8, 11]])\n",
    "print(\"Number is bigger than 11\", y[y>11])"
   ]
  },
  {
   "cell_type": "code",
   "execution_count": 8,
   "id": "087e02eb-74d9-4f05-b943-3f7b74083c24",
   "metadata": {},
   "outputs": [
    {
     "name": "stdout",
     "output_type": "stream",
     "text": [
      "[[[ 9  8]\n",
      "  [ 9  7]\n",
      "  [15 11]]]\n"
     ]
    }
   ],
   "source": [
    "# Question4\n",
    "import numpy as np\n",
    "x=np.array([(5,3),(2,4),(7,5)])\n",
    "y=np.array([(4,5),(7,3),(8,6)])\n",
    "z=np.array([x+y])\n",
    "print(z)"
   ]
  },
  {
   "cell_type": "code",
   "execution_count": 9,
   "id": "473a99d4-df89-4153-b78e-252a0dc1f8cc",
   "metadata": {},
   "outputs": [
    {
     "name": "stdout",
     "output_type": "stream",
     "text": [
      "[[4 4 2 5 2]\n",
      " [5 5 2 7 2]]\n",
      "[[ 0.6  0.6 -1.4  1.6 -1.4]\n",
      " [ 0.8  0.8 -2.2  2.8 -2.2]]\n"
     ]
    }
   ],
   "source": [
    "# Question5\n",
    "import numpy as np\n",
    "a= np.random.randint(2, 10, size=(2,5))\n",
    "print(a)\n",
    "b = a- a.mean(axis=1, keepdims=True)\n",
    "print(b)"
   ]
  },
  {
   "cell_type": "code",
   "execution_count": null,
   "id": "b7a1f47c-5e7f-49ee-b9b7-bf8f522c0f1b",
   "metadata": {},
   "outputs": [],
   "source": []
  }
 ],
 "metadata": {
  "kernelspec": {
   "display_name": "Python 3",
   "language": "python",
   "name": "python3"
  },
  "language_info": {
   "codemirror_mode": {
    "name": "ipython",
    "version": 3
   },
   "file_extension": ".py",
   "mimetype": "text/x-python",
   "name": "python",
   "nbconvert_exporter": "python",
   "pygments_lexer": "ipython3",
   "version": "3.8.8"
  }
 },
 "nbformat": 4,
 "nbformat_minor": 5
}
