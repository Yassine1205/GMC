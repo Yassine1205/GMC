{
 "cells": [
  {
   "cell_type": "code",
   "execution_count": null,
   "id": "89a4299b-02d4-438b-b574-6dfca93bdc60",
   "metadata": {},
   "outputs": [],
   "source": [
    "class Point3D:\n",
    "     def init(self,x,y,z):\n",
    "         self.x= x\n",
    "         self.y= y\n",
    "         self.z= z\n",
    "         return self.x,self.y,self.z\n",
    "def my_pointcontaining(x,y,z):\n",
    "        return(x,y,z)\n",
    "x=int(input())\n",
    "y=int(input())\n",
    "z=int(input())\n",
    "print(my_pointcontaining(x,y,z))"
   ]
  },
  {
   "cell_type": "code",
   "execution_count": null,
   "id": "74c2143c-253d-4ece-acf9-2d52336a1d7a",
   "metadata": {},
   "outputs": [],
   "source": [
    "class rectangle:\n",
    "    def __init__(self,width,lenght):\n",
    "        self.width=width\n",
    "        self.lenght=lenght\n",
    "x=float(input(\"Enter the width: \"))\n",
    "y=float(input(\"Enter the lenght: \"))\n",
    "myrectangle=rectangle(x,y)\n",
    "p=(x+y)*2\n",
    "a=x*y\n",
    "print(\"the perimete of the rectangle is \",p)\n",
    "print(\"the area of the rectangle is \",a)"
   ]
  },
  {
   "cell_type": "code",
   "execution_count": null,
   "id": "34244d14-5b5c-4c49-b2cb-3a878befbb1c",
   "metadata": {},
   "outputs": [],
   "source": [
    "import math\n",
    "class Circle():\n",
    "    def __init__(self, r):\n",
    "        self.radius = r\n",
    "    def area(self):\n",
    "        return round(self.radius** 2*math.pi)\n",
    "    def perimeter(self):\n",
    "        return round(2*self.radius*math.pi)\n",
    "\n",
    "radi = int(input(\"Enter radius: \"))\n",
    "new_Circle = Circle(radi)\n",
    "print(\"l'aire est de \", new_Circle.area())\n",
    "print(\"le périmètre est de \", new_Circle.perimeter())\n",
    "def isInside(new_circle_x, new_circle_y, rad, x, y):\n",
    "    if ((a_x - new_circle_x) * (a_x - new_circle_x) +\n",
    "        (a_y - new_circle_y) * (a_y - new_circle_y) <= rad * rad):\n",
    "        return True;\n",
    "    else:\n",
    "        return False;\n",
    "a_x = int(input());\n",
    "a_y = int(input());\n",
    "new_circle_x = 0;\n",
    "new_circle_y = 1;\n",
    "rad = radi;\n",
    "if(isInside(new_circle_x, new_circle_y, rad, a_x, a_y)):\n",
    "    print(\"Inside\");\n",
    "else:\n",
    "    print(\"Outside\");"
   ]
  },
  {
   "cell_type": "code",
   "execution_count": null,
   "id": "0a16cbf9-a110-4d10-a6e9-4772312cea5d",
   "metadata": {},
   "outputs": [],
   "source": [
    "class Bank_Account:\n",
    "    def __init__(self):\n",
    "        self.balance=0\n",
    "    def deposit(self):\n",
    "        amount=float(input(\"Amount to be Deposited: \"))\n",
    "        self.balance += amount\n",
    "        print(\"\\n Amount Deposited:\",amount)\n",
    "  \n",
    "    def withdraw(self):\n",
    "        amount = float(input(\"Amount to be Withdrawn: \"))\n",
    "        if self.balance>=amount:\n",
    "            self.balance-=amount\n",
    "            print(\"\\n Withdrew:\", amount)\n",
    "        else:\n",
    "            print(\"\\n Insufficient balance  \") \n",
    "s = Bank_Account() \n",
    "s.deposit()\n",
    "s.withdraw()"
   ]
  },
  {
   "cell_type": "code",
   "execution_count": null,
   "id": "5c1ecbb0-401f-4b07-aad7-29dd74771b07",
   "metadata": {},
   "outputs": [],
   "source": []
  }
 ],
 "metadata": {
  "kernelspec": {
   "display_name": "Python 3",
   "language": "python",
   "name": "python3"
  },
  "language_info": {
   "codemirror_mode": {
    "name": "ipython",
    "version": 3
   },
   "file_extension": ".py",
   "mimetype": "text/x-python",
   "name": "python",
   "nbconvert_exporter": "python",
   "pygments_lexer": "ipython3",
   "version": "3.8.8"
  }
 },
 "nbformat": 4,
 "nbformat_minor": 5
}
