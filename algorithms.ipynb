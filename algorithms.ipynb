{
 "cells": [
  {
   "cell_type": "code",
   "execution_count": 1,
   "id": "a217fca6-6e1b-46b8-94f0-f12b3a57c59b",
   "metadata": {},
   "outputs": [
    {
     "name": "stdin",
     "output_type": "stream",
     "text": [
      "input a list:  5\n",
      "The number is : 5\n"
     ]
    },
    {
     "name": "stdout",
     "output_type": "stream",
     "text": [
      "0\n"
     ]
    },
    {
     "data": {
      "text/plain": [
       "'True'"
      ]
     },
     "execution_count": 1,
     "metadata": {},
     "output_type": "execute_result"
    }
   ],
   "source": [
    "#Question 1\n",
    "def binary_search(A, l, h, k):\n",
    "    if h >= l:\n",
    "        mid = int(l + (h - l)/2)\n",
    "        print(mid)\n",
    "        if A[mid] == k:\n",
    "            return 'True'\n",
    "        elif A[mid] > k:\n",
    "            return binary_search(A, l, mid-1, k)\n",
    "        else:\n",
    "            return binary_search(A, mid+1, h, k)\n",
    "    else:\n",
    "        return 'False'\n",
    "\n",
    "A=list(map(int,input('input a list: ').split(',')))\n",
    "k=int(input(\"The number is :\"));l=0; h=len(A)-1; # yaatik index\n",
    "binary_search(A, l, h, k)"
   ]
  },
  {
   "cell_type": "code",
   "execution_count": 2,
   "id": "fe226e64-7e14-4a7c-9f6f-83f0eb66584c",
   "metadata": {},
   "outputs": [
    {
     "name": "stdin",
     "output_type": "stream",
     "text": [
      "x=  5\n",
      "y=  4\n"
     ]
    },
    {
     "name": "stdout",
     "output_type": "stream",
     "text": [
      "625\n"
     ]
    }
   ],
   "source": [
    "# Question2\n",
    "x=int(input(\"x= \"))\n",
    "y=int(input(\"y= \"))\n",
    "def puissance(x,y):\n",
    "    return x**y\n",
    "print(puissance(x,y))"
   ]
  },
  {
   "cell_type": "code",
   "execution_count": 3,
   "id": "5ad44e99-3577-496d-bdd3-f5a5333b7a8f",
   "metadata": {},
   "outputs": [
    {
     "name": "stdout",
     "output_type": "stream",
     "text": [
      "[1, 4, 6, 10, 12, 47, 57, 82, 101, 3000]\n"
     ]
    }
   ],
   "source": [
    "# Question3\n",
    "def bubbleSort(list):\n",
    "    for passnum in range(len(list)-1,0,-1):\n",
    "        for i in range(passnum):\n",
    "            if list[i]>list[i+1]:\n",
    "                tmp = list[i]\n",
    "                list[i] = list[i+1]\n",
    "                list[i+1] = tmp\n",
    "    return list\n",
    "\n",
    "list = [10,47,57,82,1,6,4,12,101,3000]\n",
    "print(bubbleSort(list))"
   ]
  },
  {
   "cell_type": "code",
   "execution_count": 4,
   "id": "7e00e051-e024-43bd-9baf-0d717f6d8800",
   "metadata": {},
   "outputs": [
    {
     "name": "stdout",
     "output_type": "stream",
     "text": [
      "[13, 22, 29, 37, 46, 49, 52, 56, 71]\n"
     ]
    }
   ],
   "source": [
    "# Question4\n",
    "def mergeSort(List):\n",
    "    if len(List) > 1:\n",
    "        mid = len(List) // 2\n",
    "        left = List[:mid]\n",
    "        right = List[mid:]\n",
    "\n",
    "        mergeSort(left)\n",
    "        mergeSort(right)\n",
    "\n",
    "        x = 0\n",
    "        y = 0\n",
    "        \n",
    "        z = 0\n",
    "        \n",
    "        while x < len(left) and y < len(right):\n",
    "            if left[x] < right[y]:\n",
    "              List[z] = left[x]\n",
    "              x += 1\n",
    "            else:\n",
    "                List[z] = right[y]\n",
    "                y += 1\n",
    "            z += 1\n",
    "\n",
    "        while x < len(left):\n",
    "            List[z] = left[x]\n",
    "            x += 1\n",
    "            z += 1\n",
    "\n",
    "        while y < len(right):\n",
    "            List[z]=right[y]\n",
    "            y += 1\n",
    "            z += 1\n",
    "\n",
    "List = [29,13,22,37,52,49,46,71,56]\n",
    "mergeSort(List)\n",
    "print(List)"
   ]
  },
  {
   "cell_type": "code",
   "execution_count": 5,
   "id": "8e6c3932-1e0e-4007-ba5c-82c34eea526e",
   "metadata": {},
   "outputs": [
    {
     "name": "stdout",
     "output_type": "stream",
     "text": [
      "[13, 22, 29, 37, 46, 49, 52, 56, 71]\n"
     ]
    }
   ],
   "source": [
    "# Question5\n",
    "def quicksort(list):\n",
    "   qs(list,0,len(list)-1)\n",
    "\n",
    "def qs(list,first,last):\n",
    "   if first < last:\n",
    "       splitpoint = partition(list,first,last)\n",
    "       qs(list,first,splitpoint-1)\n",
    "       qs(list,splitpoint+1,last)\n",
    "\n",
    "def partition(list,first,last): \n",
    "   pivotvalue = list[first]\n",
    "   leftmark = first+1\n",
    "   rightmark = last\n",
    "   done = False\n",
    "   while not done:\n",
    "       while leftmark <= rightmark and list[leftmark] <= pivotvalue:\n",
    "           leftmark = leftmark + 1\n",
    "       while list[rightmark] >= pivotvalue and rightmark >= leftmark:\n",
    "           rightmark = rightmark -1\n",
    "       if rightmark < leftmark:\n",
    "           done = True\n",
    "       else:\n",
    "           temp = list[leftmark]\n",
    "           list[leftmark] = list[rightmark]\n",
    "           list[rightmark] = temp\n",
    "   temp = list[first]\n",
    "   list[first] = list[rightmark]\n",
    "   list[rightmark] = temp\n",
    "   return rightmark\n",
    "\n",
    "list = [29,13,22,37,52,49,46,71,56]\n",
    "quicksort(list)\n",
    "print(list)"
   ]
  },
  {
   "cell_type": "code",
   "execution_count": null,
   "id": "9b6b51e0-aa79-4f7f-97f2-f49666fb57bd",
   "metadata": {},
   "outputs": [],
   "source": []
  }
 ],
 "metadata": {
  "kernelspec": {
   "display_name": "Python 3",
   "language": "python",
   "name": "python3"
  },
  "language_info": {
   "codemirror_mode": {
    "name": "ipython",
    "version": 3
   },
   "file_extension": ".py",
   "mimetype": "text/x-python",
   "name": "python",
   "nbconvert_exporter": "python",
   "pygments_lexer": "ipython3",
   "version": "3.8.8"
  }
 },
 "nbformat": 4,
 "nbformat_minor": 5
}
