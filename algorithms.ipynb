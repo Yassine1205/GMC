{
 "cells": [
  {
   "cell_type": "code",
   "execution_count": 1,
   "id": "a217fca6-6e1b-46b8-94f0-f12b3a57c59b",
   "metadata": {},
   "outputs": [
    {
     "name": "stdin",
     "output_type": "stream",
     "text": [
      "input a list:  5\n",
      "The number is : 5\n"
     ]
    },
    {
     "name": "stdout",
     "output_type": "stream",
     "text": [
      "0\n"
     ]
    },
    {
     "data": {
      "text/plain": [
       "'True'"
      ]
     },
     "execution_count": 1,
     "metadata": {},
     "output_type": "execute_result"
    }
   ],
   "source": [
    "#Question 1\n",
    "def binary_search(A, l, h, k):\n",
    "    if h >= l:\n",
    "        mid = int(l + (h - l)/2)\n",
    "        print(mid)\n",
    "        if A[mid] == k:\n",
    "            return 'True'\n",
    "        elif A[mid] > k:\n",
    "            return binary_search(A, l, mid-1, k)\n",
    "        else:\n",
    "            return binary_search(A, mid+1, h, k)\n",
    "    else:\n",
    "        return 'False'\n",
    "\n",
    "A=list(map(int,input('input a list: ').split(',')))\n",
    "k=int(input(\"The number is :\"));l=0; h=len(A)-1; # yaatik index\n",
    "binary_search(A, l, h, k)"
   ]
  },
  {
   "cell_type": "code",
   "execution_count": null,
   "id": "fe226e64-7e14-4a7c-9f6f-83f0eb66584c",
   "metadata": {},
   "outputs": [],
   "source": [
    "# Question2\n",
    "x=int(input(\"x= \"))\n",
    "y=int(input(\"y= \"))\n",
    "def puissance(x,y):\n",
    "    return x**y\n",
    "print(puissance(x,y))"
   ]
  }
 ],
 "metadata": {
  "kernelspec": {
   "display_name": "Python 3",
   "language": "python",
   "name": "python3"
  },
  "language_info": {
   "codemirror_mode": {
    "name": "ipython",
    "version": 3
   },
   "file_extension": ".py",
   "mimetype": "text/x-python",
   "name": "python",
   "nbconvert_exporter": "python",
   "pygments_lexer": "ipython3",
   "version": "3.8.8"
  }
 },
 "nbformat": 4,
 "nbformat_minor": 5
}
